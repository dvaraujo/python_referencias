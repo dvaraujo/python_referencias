{
 "cells": [
  {
   "cell_type": "markdown",
   "metadata": {},
   "source": [
    "### Dependências"
   ]
  },
  {
   "cell_type": "code",
   "execution_count": 5,
   "metadata": {},
   "outputs": [],
   "source": [
    "pip install SQLAlchemy pyodbc "
   ]
  },
  {
   "cell_type": "markdown",
   "metadata": {},
   "source": [
    "### Connection string (SQL Server), Imports e configurações necessárias \n",
    "> #### <font color ='red'>Verificar Drivers ODBC instalados</font>\n",
    "- No windows: Ferramentas Administrativas > Fontes de Dados ODBC.\n",
    "- No Linux:   /etc/odbcinst.ini e  /home/{NomeDeUsuario}/.odbcinst.ini \n",
    "\n",
    "> Caso não houver o driver indicado na próxima célula, instale-o ou mude a string de conexão para bater com o driver instalado no sistema operacional \n",
    "\n",
    "\n"
   ]
  },
  {
   "cell_type": "code",
   "execution_count": 1,
   "metadata": {},
   "outputs": [],
   "source": [
    "import dados\n",
    "from sqlalchemy import create_engine, Column, Integer, String\n",
    "from sqlalchemy.orm import sessionmaker\n",
    "from sqlalchemy.ext.declarative import declarative_base # Para usar linguagem DDL\n",
    "import urllib\n",
    "\n",
    "# A linha abaixo é um modelo de string de conexão, substituir de acordo com dados necessários\n",
    "# params = urllib.parse.quote_plus(\"DRIVER={SQL Server Native Client 11.0};SERVER=IP_DO_SERVIDOR;DATABASE=NOME_DO_BANCO;UID=USUARIO_BANCO;PWD=SENHA_BANCO\")\n",
    "\n",
    "params = urllib.parse.quote_plus(dados.dados) \n",
    "\n",
    "engine = create_engine(f\"mssql+pyodbc:///?odbc_connect={params}\")\n",
    "\n",
    "Session = sessionmaker(bind=engine) # Para fazer uso do modelo ORM , precisamos de uma sessão, aqui iniciada e passada a engine como parâmetro\n",
    "session = Session()  # criando o objeto de sessão para ser utilizada nas transações"
   ]
  },
  {
   "cell_type": "markdown",
   "metadata": {},
   "source": [
    "### Criação de várias tabelas via abstração de classes "
   ]
  },
  {
   "cell_type": "code",
   "execution_count": 31,
   "metadata": {},
   "outputs": [],
   "source": [
    "Base = declarative_base()\n",
    "\n",
    "class User(Base): # Classe de usuario para ser abstraída no banco de dados\n",
    "    __tablename__ = 'users'\n",
    "\n",
    "    id = Column(Integer, primary_key=True)\n",
    "    name = Column(String)\n",
    "    password = Column(String)\n",
    "\n",
    "    def __repr__(self):  # Define como o dado será mostrado nas consultas\n",
    "        return f'User:  {self.name}'"
   ]
  },
  {
   "cell_type": "code",
   "execution_count": 10,
   "metadata": {},
   "outputs": [
    {
     "data": {
      "text/plain": [
       "sqlalchemy.ext.declarative.api.DeclarativeMeta"
      ]
     },
     "execution_count": 10,
     "metadata": {},
     "output_type": "execute_result"
    }
   ],
   "source": [
    "type(Base)"
   ]
  },
  {
   "cell_type": "code",
   "execution_count": 9,
   "metadata": {},
   "outputs": [],
   "source": [
    "Base.metadata.create_all(engine) # comando para criar todas as tabelas baseadas nas classes\n"
   ]
  },
  {
   "cell_type": "markdown",
   "metadata": {},
   "source": [
    "### Criação de tabela após já ter criado outras tabelas"
   ]
  },
  {
   "cell_type": "code",
   "execution_count": 10,
   "metadata": {},
   "outputs": [],
   "source": [
    "#Base = declarative_base()\n",
    "class Product(Base):\n",
    "    __tablename__ = 'products'\n",
    "\n",
    "    id = Column(Integer, primary_key=True)\n",
    "    name = Column(String)"
   ]
  },
  {
   "cell_type": "code",
   "execution_count": 11,
   "metadata": {},
   "outputs": [],
   "source": [
    "Product.__table__.create(engine) # criação da tabela"
   ]
  },
  {
   "cell_type": "markdown",
   "metadata": {},
   "source": [
    "### Adição de registro"
   ]
  },
  {
   "cell_type": "code",
   "execution_count": 20,
   "metadata": {},
   "outputs": [],
   "source": [
    "user = User(name='John Snow', password='knowsNothing') # Passando dados para adicionar um registro \n",
    "session.add(user) # comando \"add\" da sessão para adicionar o registro\n",
    "session.commit()  # só após session.commit() o registro é adicionado no banco\n",
    "# session.flush()  -> guarda oeprações DDL e as coloca como pendentes. As alterações não são feitas, nem ficam visíveis em outras transacoes até que a sessao receba uma instrução commit()"
   ]
  },
  {
   "cell_type": "markdown",
   "metadata": {},
   "source": [
    "### Execução de consultas"
   ]
  },
  {
   "cell_type": "code",
   "execution_count": 37,
   "metadata": {},
   "outputs": [
    {
     "name": "stdout",
     "output_type": "stream",
     "text": [
      "1\n",
      "[User:  John Snow]\n",
      "User:  John Snow\n"
     ]
    }
   ],
   "source": [
    "# Método filter_by()\n",
    "\n",
    "query = session.query(User).filter_by(name='John Snow') # Definição da consulta em si\n",
    "# Métodos que indicam o que queremos fazer com os dados da consulta\n",
    "print(query.count()) # Contar quantos registros bateram com o filtro\n",
    "print(query.all())   # Retorna todos os registros que bateram com o filtro\n",
    "print(query.first()) # Retorna o primeiro registro que bateu com o filtro\n"
   ]
  },
  {
   "cell_type": "code",
   "execution_count": 38,
   "metadata": {},
   "outputs": [
    {
     "name": "stdout",
     "output_type": "stream",
     "text": [
      "User:  John Snow\n",
      "User:  John Snow\n"
     ]
    }
   ],
   "source": [
    "# Método filter() \n",
    "\n",
    "print(session.query(User).filter(User.name=='John Snow').first())\n",
    "print(session.query(User).filter(User.name.like('%John%')).first()) # Possível procurar nomes similares ao passado (como o operador LIKE do SQL)"
   ]
  },
  {
   "cell_type": "code",
   "execution_count": null,
   "metadata": {},
   "outputs": [],
   "source": []
  },
  {
   "cell_type": "code",
   "execution_count": null,
   "metadata": {},
   "outputs": [],
   "source": []
  },
  {
   "cell_type": "code",
   "execution_count": null,
   "metadata": {},
   "outputs": [],
   "source": []
  },
  {
   "cell_type": "code",
   "execution_count": null,
   "metadata": {},
   "outputs": [],
   "source": []
  },
  {
   "cell_type": "code",
   "execution_count": null,
   "metadata": {},
   "outputs": [],
   "source": []
  },
  {
   "cell_type": "code",
   "execution_count": null,
   "metadata": {},
   "outputs": [],
   "source": []
  },
  {
   "cell_type": "code",
   "execution_count": null,
   "metadata": {},
   "outputs": [],
   "source": []
  },
  {
   "cell_type": "code",
   "execution_count": null,
   "metadata": {},
   "outputs": [],
   "source": []
  },
  {
   "cell_type": "code",
   "execution_count": null,
   "metadata": {},
   "outputs": [],
   "source": []
  },
  {
   "cell_type": "code",
   "execution_count": null,
   "metadata": {},
   "outputs": [],
   "source": []
  },
  {
   "cell_type": "code",
   "execution_count": null,
   "metadata": {},
   "outputs": [],
   "source": []
  },
  {
   "cell_type": "code",
   "execution_count": null,
   "metadata": {},
   "outputs": [],
   "source": []
  },
  {
   "cell_type": "code",
   "execution_count": null,
   "metadata": {},
   "outputs": [],
   "source": []
  },
  {
   "cell_type": "code",
   "execution_count": null,
   "metadata": {},
   "outputs": [],
   "source": []
  },
  {
   "cell_type": "code",
   "execution_count": null,
   "metadata": {},
   "outputs": [],
   "source": []
  },
  {
   "cell_type": "code",
   "execution_count": null,
   "metadata": {},
   "outputs": [],
   "source": []
  },
  {
   "cell_type": "code",
   "execution_count": null,
   "metadata": {},
   "outputs": [],
   "source": []
  },
  {
   "cell_type": "code",
   "execution_count": null,
   "metadata": {},
   "outputs": [],
   "source": []
  },
  {
   "cell_type": "code",
   "execution_count": null,
   "metadata": {},
   "outputs": [],
   "source": []
  },
  {
   "cell_type": "code",
   "execution_count": null,
   "metadata": {},
   "outputs": [],
   "source": []
  },
  {
   "cell_type": "code",
   "execution_count": null,
   "metadata": {},
   "outputs": [],
   "source": []
  },
  {
   "cell_type": "code",
   "execution_count": null,
   "metadata": {},
   "outputs": [],
   "source": []
  }
 ],
 "metadata": {
  "kernelspec": {
   "display_name": "Python 3",
   "language": "python",
   "name": "python3"
  },
  "language_info": {
   "codemirror_mode": {
    "name": "ipython",
    "version": 3
   },
   "file_extension": ".py",
   "mimetype": "text/x-python",
   "name": "python",
   "nbconvert_exporter": "python",
   "pygments_lexer": "ipython3",
   "version": "3.7.4"
  }
 },
 "nbformat": 4,
 "nbformat_minor": 2
}
